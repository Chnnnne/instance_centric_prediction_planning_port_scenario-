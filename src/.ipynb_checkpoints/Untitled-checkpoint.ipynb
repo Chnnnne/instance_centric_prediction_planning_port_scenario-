{
 "cells": [
  {
   "cell_type": "code",
   "execution_count": 1,
   "id": "c6874697-138d-4933-9008-c00ae51c559d",
   "metadata": {},
   "outputs": [],
   "source": [
    "import os\n",
    "import torch\n",
    "import random\n",
    "import numpy as np\n",
    "from torch.utils.data import DataLoader\n",
    "import pickle\n",
    "from tqdm import tqdm\n",
    "\n",
    "from model import Model\n",
    "from loss import Loss\n",
    "\n",
    "import sys\n",
    "sys.path.append(\"/wg_dev/instance_centric_model/\")\n",
    "from parser_args import main_parser\n",
    "from data_loader import InterDataSet\n"
   ]
  },
  {
   "cell_type": "code",
   "execution_count": 2,
   "id": "c253ea52-d4f1-4cd8-912a-abae564b0fbd",
   "metadata": {},
   "outputs": [],
   "source": [
    "dataset_dir = \"/private2/wanggang/instance_model_data/\"\n",
    "set_name = \"train\"\n",
    "dataset = InterDataSet(dataset_dir, set_name)\n",
    "dataloader = DataLoader(dataset, batch_size=6, shuffle=False, drop_last=True, num_workers=1, collate_fn=dataset.collate_batch)"
   ]
  },
  {
   "cell_type": "code",
   "execution_count": 3,
   "id": "d95d4d93-e483-491c-a564-afc025293cd8",
   "metadata": {},
   "outputs": [],
   "source": [
    "args = main_parser()\n",
    "model = Model(args).cuda()"
   ]
  },
  {
   "cell_type": "code",
   "execution_count": 4,
   "id": "4dc82891-21ad-461e-8c95-d0163cf98e61",
   "metadata": {},
   "outputs": [],
   "source": [
    "for data in dataloader:\n",
    "    output = model(data)\n",
    "    break\n",
    "    "
   ]
  },
  {
   "cell_type": "code",
   "execution_count": 5,
   "id": "11303340-25e0-4090-ad80-874e0d847e9d",
   "metadata": {},
   "outputs": [],
   "source": [
    "batch_size, top, fde, t_ade, t_fde = model.compute_model_metrics(data, output)"
   ]
  },
  {
   "cell_type": "code",
   "execution_count": 6,
   "id": "74990f98-9837-4d50-a216-00b028378478",
   "metadata": {},
   "outputs": [],
   "source": [
    "loss = Loss()"
   ]
  },
  {
   "cell_type": "code",
   "execution_count": 7,
   "id": "c486cdad-ebac-4835-a6b7-62ce3e25da7e",
   "metadata": {},
   "outputs": [],
   "source": [
    "loss_, loss_dict = loss(data, output, 20)"
   ]
  },
  {
   "cell_type": "code",
   "execution_count": 8,
   "id": "fe73683e-f766-4705-be52-b00ef4618f38",
   "metadata": {},
   "outputs": [
    {
     "data": {
      "text/plain": [
       "tensor(61.2885, device='cuda:0', grad_fn=<AddBackward0>)"
      ]
     },
     "execution_count": 8,
     "metadata": {},
     "output_type": "execute_result"
    }
   ],
   "source": [
    "loss_"
   ]
  },
  {
   "cell_type": "code",
   "execution_count": 9,
   "id": "073a9859-7798-4d4c-b413-dffe3863b17f",
   "metadata": {},
   "outputs": [
    {
     "data": {
      "text/plain": [
       "{'tar_cls_loss': tensor(5.6263, device='cuda:0', grad_fn=<MulBackward0>),\n",
       " 'tar_offset_loss': tensor(1.1093, device='cuda:0', grad_fn=<MulBackward0>),\n",
       " 'traj_loss': tensor(52.0399, device='cuda:0', grad_fn=<MulBackward0>),\n",
       " 'score_loss': tensor(5.4411, device='cuda:0', grad_fn=<MulBackward0>),\n",
       " 'safety_loss': tensor(-2.9282, device='cuda:0', grad_fn=<MulBackward0>)}"
      ]
     },
     "execution_count": 9,
     "metadata": {},
     "output_type": "execute_result"
    }
   ],
   "source": [
    "loss_dict"
   ]
  },
  {
   "cell_type": "code",
   "execution_count": null,
   "id": "b6f7b766-b493-42b0-b529-4241a8820b34",
   "metadata": {},
   "outputs": [],
   "source": []
  },
  {
   "cell_type": "code",
   "execution_count": null,
   "id": "3edcae33-7b87-4a1a-b5f5-751aeb7a820b",
   "metadata": {},
   "outputs": [],
   "source": []
  }
 ],
 "metadata": {
  "kernelspec": {
   "display_name": "Python 3",
   "language": "python",
   "name": "python3"
  },
  "language_info": {
   "codemirror_mode": {
    "name": "ipython",
    "version": 3
   },
   "file_extension": ".py",
   "mimetype": "text/x-python",
   "name": "python",
   "nbconvert_exporter": "python",
   "pygments_lexer": "ipython3",
   "version": "3.7.10"
  }
 },
 "nbformat": 4,
 "nbformat_minor": 5
}
